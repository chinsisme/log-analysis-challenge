{
 "cells": [
  {
   "cell_type": "code",
   "execution_count": 8,
   "metadata": {},
   "outputs": [],
   "source": [
    "import pandas as pd\n",
    "import numpy as np\n",
    "import io\n",
    "from matplotlib import pyplot as plt"
   ]
  },
  {
   "cell_type": "code",
   "execution_count": 9,
   "metadata": {},
   "outputs": [],
   "source": [
    "columns_log = ['Date', 'Time', 'PID', 'ResponseTime', 'UID']\n",
    "\n",
    "df_error = pd.DataFrame(columns=columns_log)\n",
    "df_log = pd.DataFrame(columns=columns_log)\n",
    "\n",
    "with open('/home/user/Documents/Me/out.log', 'r') as f:\n",
    "    lines = f.readlines()\n",
    "    for line in lines:\n",
    "        if('[ERROR]' in line):\n",
    "            error_array = line.split('[ERROR]')[0].split(' ')\n",
    "            df_error.loc[len(df_error)] = [error_array[0], error_array[1],\n",
    "                                           str(error_array[3]).replace(']', ''), str(error_array[4]).replace('[', '').replace(']', '').replace('ms', ''), str(error_array[6]).replace(']', '')]\n",
    "        for log_identifier in ['[ERROR]', '[DEBUG]', '[INFO]']:\n",
    "            if(log_identifier in line):\n",
    "                error_array = line.split(log_identifier)[0].split(' ')\n",
    "                df_log.loc[len(df_log)] = [error_array[0], error_array[1],\n",
    "                                            str(error_array[3]).replace(']', ''), str(error_array[4]).replace('[', '').replace(']', '').replace('ms', ''), str(error_array[6]).replace(']', '')]\n"
   ]
  },
  {
   "cell_type": "code",
   "execution_count": 15,
   "metadata": {},
   "outputs": [
    {
     "data": {
      "text/html": [
       "<div>\n",
       "<style scoped>\n",
       "    .dataframe tbody tr th:only-of-type {\n",
       "        vertical-align: middle;\n",
       "    }\n",
       "\n",
       "    .dataframe tbody tr th {\n",
       "        vertical-align: top;\n",
       "    }\n",
       "\n",
       "    .dataframe thead th {\n",
       "        text-align: right;\n",
       "    }\n",
       "</style>\n",
       "<table border=\"1\" class=\"dataframe\">\n",
       "  <thead>\n",
       "    <tr style=\"text-align: right;\">\n",
       "      <th></th>\n",
       "      <th>Date</th>\n",
       "      <th>Time</th>\n",
       "      <th>PID</th>\n",
       "      <th>ResponseTime</th>\n",
       "      <th>UID</th>\n",
       "    </tr>\n",
       "  </thead>\n",
       "  <tbody>\n",
       "    <tr>\n",
       "      <th>0</th>\n",
       "      <td>2018-08-30</td>\n",
       "      <td>17:12:28.846066</td>\n",
       "      <td>4789</td>\n",
       "      <td>485</td>\n",
       "      <td>R0BOH</td>\n",
       "    </tr>\n",
       "    <tr>\n",
       "      <th>1</th>\n",
       "      <td>2018-08-30</td>\n",
       "      <td>17:12:24.846066</td>\n",
       "      <td>4787</td>\n",
       "      <td>393</td>\n",
       "      <td>W2BIU</td>\n",
       "    </tr>\n",
       "    <tr>\n",
       "      <th>2</th>\n",
       "      <td>2018-08-30</td>\n",
       "      <td>17:12:21.846066</td>\n",
       "      <td>4788</td>\n",
       "      <td>180</td>\n",
       "      <td>3TT19</td>\n",
       "    </tr>\n",
       "    <tr>\n",
       "      <th>3</th>\n",
       "      <td>2018-08-30</td>\n",
       "      <td>17:12:20.846066</td>\n",
       "      <td>4788</td>\n",
       "      <td>246</td>\n",
       "      <td>8QTP8</td>\n",
       "    </tr>\n",
       "    <tr>\n",
       "      <th>4</th>\n",
       "      <td>2018-08-30</td>\n",
       "      <td>17:12:10.846066</td>\n",
       "      <td>4788</td>\n",
       "      <td>117</td>\n",
       "      <td>DX2CB</td>\n",
       "    </tr>\n",
       "  </tbody>\n",
       "</table>\n",
       "</div>"
      ],
      "text/plain": [
       "         Date             Time   PID ResponseTime    UID\n",
       "0  2018-08-30  17:12:28.846066  4789          485  R0BOH\n",
       "1  2018-08-30  17:12:24.846066  4787          393  W2BIU\n",
       "2  2018-08-30  17:12:21.846066  4788          180  3TT19\n",
       "3  2018-08-30  17:12:20.846066  4788          246  8QTP8\n",
       "4  2018-08-30  17:12:10.846066  4788          117  DX2CB"
      ]
     },
     "execution_count": 15,
     "metadata": {},
     "output_type": "execute_result"
    }
   ],
   "source": [
    "df_error_average_response_time = pd.to_numeric(df_error['ResponseTime']).groupby(\n",
    "    [df_error['Date'], df_error['Time'].str.slice(start=0, stop=2)]).mean().reset_index(name='AverageResponseTime')\n",
    "# df_error_average_response_time.head(5)\n",
    "df_error.head(5)"
   ]
  },
  {
   "cell_type": "code",
   "execution_count": 13,
   "metadata": {},
   "outputs": [
    {
     "data": {
      "text/plain": [
       "Index(['Date', 'Time', 'AverageResponseTime'], dtype='object')"
      ]
     },
     "execution_count": 13,
     "metadata": {},
     "output_type": "execute_result"
    }
   ],
   "source": [
    "df_error_average_response_time.columns"
   ]
  },
  {
   "cell_type": "code",
   "execution_count": 16,
   "metadata": {},
   "outputs": [
    {
     "data": {
      "text/html": [
       "<div>\n",
       "<style scoped>\n",
       "    .dataframe tbody tr th:only-of-type {\n",
       "        vertical-align: middle;\n",
       "    }\n",
       "\n",
       "    .dataframe tbody tr th {\n",
       "        vertical-align: top;\n",
       "    }\n",
       "\n",
       "    .dataframe thead th {\n",
       "        text-align: right;\n",
       "    }\n",
       "</style>\n",
       "<table border=\"1\" class=\"dataframe\">\n",
       "  <thead>\n",
       "    <tr style=\"text-align: right;\">\n",
       "      <th></th>\n",
       "      <th>Date</th>\n",
       "      <th>Time</th>\n",
       "      <th>Error count</th>\n",
       "    </tr>\n",
       "  </thead>\n",
       "  <tbody>\n",
       "    <tr>\n",
       "      <th>0</th>\n",
       "      <td>2018-08-30</td>\n",
       "      <td>15:12</td>\n",
       "      <td>10</td>\n",
       "    </tr>\n",
       "    <tr>\n",
       "      <th>1</th>\n",
       "      <td>2018-08-30</td>\n",
       "      <td>15:13</td>\n",
       "      <td>18</td>\n",
       "    </tr>\n",
       "    <tr>\n",
       "      <th>2</th>\n",
       "      <td>2018-08-30</td>\n",
       "      <td>15:14</td>\n",
       "      <td>15</td>\n",
       "    </tr>\n",
       "    <tr>\n",
       "      <th>3</th>\n",
       "      <td>2018-08-30</td>\n",
       "      <td>15:15</td>\n",
       "      <td>22</td>\n",
       "    </tr>\n",
       "    <tr>\n",
       "      <th>4</th>\n",
       "      <td>2018-08-30</td>\n",
       "      <td>15:16</td>\n",
       "      <td>24</td>\n",
       "    </tr>\n",
       "  </tbody>\n",
       "</table>\n",
       "</div>"
      ],
      "text/plain": [
       "         Date   Time  Error count\n",
       "0  2018-08-30  15:12           10\n",
       "1  2018-08-30  15:13           18\n",
       "2  2018-08-30  15:14           15\n",
       "3  2018-08-30  15:15           22\n",
       "4  2018-08-30  15:16           24"
      ]
     },
     "execution_count": 16,
     "metadata": {},
     "output_type": "execute_result"
    }
   ],
   "source": [
    "df_error_count = pd.to_numeric(df_error['ResponseTime']).groupby(\n",
    "    [df_error['Date'], df_error['Time'].str.slice(start=0, stop=5)]).size().reset_index(name='Error count')\n",
    "df_error_count.head(5)"
   ]
  },
  {
   "cell_type": "code",
   "execution_count": 54,
   "metadata": {},
   "outputs": [
    {
     "data": {
      "text/plain": [
       "<BarContainer object of 121 artists>"
      ]
     },
     "execution_count": 54,
     "metadata": {},
     "output_type": "execute_result"
    },
    {
     "data": {
      "image/png": "[encoded data removed]",
      "text/plain": [
       "<Figure size 432x288 with 1 Axes>"
      ]
     },
     "metadata": {
      "needs_background": "light"
     },
     "output_type": "display_data"
    }
   ],
   "source": [
    "plt.bar(df_error_count['Time'], df_error_count['Error count'])"
   ]
  },
  {
   "cell_type": "code",
   "execution_count": 57,
   "metadata": {},
   "outputs": [
    {
     "data": {
      "text/html": [
       "<div>\n",
       "<style scoped>\n",
       "    .dataframe tbody tr th:only-of-type {\n",
       "        vertical-align: middle;\n",
       "    }\n",
       "\n",
       "    .dataframe tbody tr th {\n",
       "        vertical-align: top;\n",
       "    }\n",
       "\n",
       "    .dataframe thead th {\n",
       "        text-align: right;\n",
       "    }\n",
       "</style>\n",
       "<table border=\"1\" class=\"dataframe\">\n",
       "  <thead>\n",
       "    <tr style=\"text-align: right;\">\n",
       "      <th></th>\n",
       "      <th>Date</th>\n",
       "      <th>Time</th>\n",
       "      <th>AverageResponseTime</th>\n",
       "    </tr>\n",
       "  </thead>\n",
       "  <tbody>\n",
       "    <tr>\n",
       "      <th>0</th>\n",
       "      <td>2018-08-30</td>\n",
       "      <td>15:12</td>\n",
       "      <td>254.709677</td>\n",
       "    </tr>\n",
       "    <tr>\n",
       "      <th>1</th>\n",
       "      <td>2018-08-30</td>\n",
       "      <td>15:13</td>\n",
       "      <td>296.616667</td>\n",
       "    </tr>\n",
       "    <tr>\n",
       "      <th>2</th>\n",
       "      <td>2018-08-30</td>\n",
       "      <td>15:14</td>\n",
       "      <td>266.633333</td>\n",
       "    </tr>\n",
       "    <tr>\n",
       "      <th>3</th>\n",
       "      <td>2018-08-30</td>\n",
       "      <td>15:15</td>\n",
       "      <td>276.566667</td>\n",
       "    </tr>\n",
       "    <tr>\n",
       "      <th>4</th>\n",
       "      <td>2018-08-30</td>\n",
       "      <td>15:16</td>\n",
       "      <td>271.283333</td>\n",
       "    </tr>\n",
       "  </tbody>\n",
       "</table>\n",
       "</div>"
      ],
      "text/plain": [
       "         Date   Time  AverageResponseTime\n",
       "0  2018-08-30  15:12           254.709677\n",
       "1  2018-08-30  15:13           296.616667\n",
       "2  2018-08-30  15:14           266.633333\n",
       "3  2018-08-30  15:15           276.566667\n",
       "4  2018-08-30  15:16           271.283333"
      ]
     },
     "execution_count": 57,
     "metadata": {},
     "output_type": "execute_result"
    }
   ],
   "source": [
    "df_log_average_response_time = pd.to_numeric(df_log['ResponseTime']).groupby(\n",
    "    [df_log['Date'], df_log['Time'].str.slice(start=0, stop=5)]).mean().reset_index(name='AverageResponseTime')\n",
    "df_log_average_response_time.head(5)"
   ]
  },
  {
   "cell_type": "code",
   "execution_count": 59,
   "metadata": {},
   "outputs": [
    {
     "data": {
      "text/plain": [
       "<BarContainer object of 121 artists>"
      ]
     },
     "execution_count": 59,
     "metadata": {},
     "output_type": "execute_result"
    },
    {
     "data": {
      "image/png": "[encoded data removed]",
      "text/plain": [
       "<Figure size 432x288 with 1 Axes>"
      ]
     },
     "metadata": {
      "needs_background": "light"
     },
     "output_type": "display_data"
    }
   ],
   "source": [
    "plt.bar(df_log_average_response_time['Time'], df_log_average_response_time['AverageResponseTime'])"
   ]
  }
 ],
 "metadata": {
  "kernelspec": {
   "display_name": "Python 3",
   "language": "python",
   "name": "python3"
  },
  "language_info": {
   "codemirror_mode": {
    "name": "ipython",
    "version": 3
   },
   "file_extension": ".py",
   "mimetype": "text/x-python",
   "name": "python",
   "nbconvert_exporter": "python",
   "pygments_lexer": "ipython3",
   "version": "3.5.2"
  }
 },
 "nbformat": 4,
 "nbformat_minor": 2
}
