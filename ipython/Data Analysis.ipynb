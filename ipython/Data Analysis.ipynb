{
 "cells": [
  {
   "cell_type": "code",
   "execution_count": 15,
   "metadata": {},
   "outputs": [],
   "source": [
    "import pandas as pd\n",
    "from matplotlib import pyplot as plt"
   ]
  },
  {
   "cell_type": "code",
   "execution_count": null,
   "metadata": {},
   "outputs": [],
   "source": [
    "# %load '../parameters.ini'\n",
    "[DATABASE]\n",
    "ADDRESS=127.0.0.1\n",
    "USERNAME=root\n",
    "PASSWORD=12345\n",
    "NAME=logs"
   ]
  },
  {
   "cell_type": "code",
   "execution_count": null,
   "metadata": {},
   "outputs": [],
   "source": [
    "# %load '../functions/connect_sql.py'\n",
    "from sqlalchemy import create_engine\n",
    "import pymysql\n",
    "import configparser\n",
    "\n",
    "\n",
    "def sqlalchemy_connect():\n",
    "    config = configparser.ConfigParser()\n",
    "    config.read('parameters.ini')\n",
    "    address = config.get('DATABASE', 'ADDRESS')\n",
    "    username = config.get('DATABASE', 'USERNAME')\n",
    "    password = config.get('DATABASE', 'PASSWORD')\n",
    "    database = config.get('DATABASE', 'NAME')\n",
    "    return create_engine(\"mysql+pymysql://{}:{}@{}/{}\".format(username, password, address, database))\n",
    "\n",
    "\n",
    "def pymysql_connect():\n",
    "    config = configparser.ConfigParser()\n",
    "    config.read('parameters.ini')\n",
    "    return pymysql.connect(host=config.get('DATABASE', 'ADDRESS'),\n",
    "                           user=config.get('DATABASE', 'USERNAME'),\n",
    "                           passwd=config.get('DATABASE', 'PASSWORD'),\n",
    "                           db=config.get('DATABASE', 'NAME')\n",
    "                           )\n"
   ]
  },
  {
   "cell_type": "code",
   "execution_count": 13,
   "metadata": {},
   "outputs": [],
   "source": [
    "pymysql_conn = pymysql_connect()"
   ]
  },
  {
   "cell_type": "code",
   "execution_count": 27,
   "metadata": {
    "scrolled": true
   },
   "outputs": [
    {
     "data": {
      "text/plain": [
       "<BarContainer object of 3 artists>"
      ]
     },
     "execution_count": 27,
     "metadata": {},
     "output_type": "execute_result"
    },
    {
     "data": {
      "image/png": "[encoded data removed]",
      "text/plain": [
       "<Figure size 432x288 with 1 Axes>"
      ]
     },
     "metadata": {
      "needs_background": "light"
     },
     "output_type": "display_data"
    }
   ],
   "source": [
    "query_error_count = \"\"\"\n",
    "SELECT \n",
    "    SUBSTRING(DateTime, 1, 13) AS 'DateTime',\n",
    "    COUNT(*) AS 'ErrorCount'\n",
    "FROM\n",
    "    logs\n",
    "WHERE\n",
    "    LogType = 'ERROR'\n",
    "GROUP BY SUBSTRING(DateTime, 1, 13);\n",
    "\"\"\"\n",
    "df_error_count = pd.read_sql_query(sql=query_error_count, con=pymysql_conn)\n",
    "plt.bar(df_error_count['DateTime'], df_error_count['ErrorCount'])"
   ]
  },
  {
   "cell_type": "code",
   "execution_count": 30,
   "metadata": {},
   "outputs": [
    {
     "data": {
      "text/html": [
       "<div>\n",
       "<style scoped>\n",
       "    .dataframe tbody tr th:only-of-type {\n",
       "        vertical-align: middle;\n",
       "    }\n",
       "\n",
       "    .dataframe tbody tr th {\n",
       "        vertical-align: top;\n",
       "    }\n",
       "\n",
       "    .dataframe thead th {\n",
       "        text-align: right;\n",
       "    }\n",
       "</style>\n",
       "<table border=\"1\" class=\"dataframe\">\n",
       "  <thead>\n",
       "    <tr style=\"text-align: right;\">\n",
       "      <th></th>\n",
       "      <th>Percentile</th>\n",
       "      <th>ResponseTime</th>\n",
       "    </tr>\n",
       "  </thead>\n",
       "  <tbody>\n",
       "    <tr>\n",
       "      <th>0</th>\n",
       "      <td>50.0%</td>\n",
       "      <td>258.0</td>\n",
       "    </tr>\n",
       "    <tr>\n",
       "      <th>1</th>\n",
       "      <td>90.0%</td>\n",
       "      <td>442.6</td>\n",
       "    </tr>\n",
       "    <tr>\n",
       "      <th>2</th>\n",
       "      <td>95.0%</td>\n",
       "      <td>472.0</td>\n",
       "    </tr>\n",
       "  </tbody>\n",
       "</table>\n",
       "</div>"
      ],
      "text/plain": [
       "  Percentile  ResponseTime\n",
       "0      50.0%         258.0\n",
       "1      90.0%         442.6\n",
       "2      95.0%         472.0"
      ]
     },
     "execution_count": 30,
     "metadata": {},
     "output_type": "execute_result"
    }
   ],
   "source": [
    "query_success = \"\"\"\n",
    "SELECT \n",
    "    ResponseTime\n",
    "FROM\n",
    "    logs\n",
    "WHERE\n",
    "    LogType != 'ERROR'\n",
    "ORDER BY ResponseTime;\n",
    "\"\"\"\n",
    "df_success = pd.read_sql_query(sql=query_success, con=pymysql_conn)\n",
    "df_percentile = pd.DataFrame(columns=['Percentile', 'ResponseTime'])\n",
    "percentile_list = [0.5, 0.9, 0.95]\n",
    "for percentile in percentile_list:\n",
    "    df_percentile.loc[len(df_percentile)] = [str(percentile * 100) + '%',\n",
    "                                             df_success.quantile(percentile).tolist()[0]]\n",
    "df_percentile"
   ]
  }
 ],
 "metadata": {
  "kernelspec": {
   "display_name": "Python 3",
   "language": "python",
   "name": "python3"
  },
  "language_info": {
   "codemirror_mode": {
    "name": "ipython",
    "version": 3
   },
   "file_extension": ".py",
   "mimetype": "text/x-python",
   "name": "python",
   "nbconvert_exporter": "python",
   "pygments_lexer": "ipython3",
   "version": "3.6.6"
  }
 },
 "nbformat": 4,
 "nbformat_minor": 2
}
